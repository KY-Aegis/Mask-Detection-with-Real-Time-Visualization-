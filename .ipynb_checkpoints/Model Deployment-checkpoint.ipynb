{
 "cells": [
  {
   "cell_type": "markdown",
   "id": "eea2d772",
   "metadata": {},
   "source": [
    "# Import Libraries"
   ]
  },
  {
   "cell_type": "code",
   "execution_count": 1,
   "id": "28e1645a",
   "metadata": {},
   "outputs": [],
   "source": [
    "from tensorflow.keras.applications.mobilenet_v2 import preprocess_input\n",
    "from tensorflow.keras.preprocessing.image import img_to_array\n",
    "from tensorflow.keras.models import load_model\n",
    "from imutils.video import VideoStream\n",
    "import mysql.connector\n",
    "import numpy as np\n",
    "import imutils\n",
    "import cv2\n",
    "import os\n",
    "import datetime "
   ]
  },
  {
   "cell_type": "markdown",
   "id": "bf0fb7d7",
   "metadata": {},
   "source": [
    "# Function to Detect Face and Mask"
   ]
  },
  {
   "cell_type": "code",
   "execution_count": 2,
   "id": "9dec1f8e",
   "metadata": {},
   "outputs": [],
   "source": [
    "def detect_and_predict_mask(frame, face_detect, mask_detect): #function to detect face and mask \n",
    "    faces = [] # array to store faces\n",
    "    locations = [] #array to store location\n",
    "    preds = [] # array to store predictions \n",
    "    (h, w) = frame.shape[:2] # declare the height and width of the video frame \n",
    "    blob = cv2.dnn.blobFromImage(frame, 1.0, (224, 224),(104.0, 177.0, 123.0)) #rescale the frame size using blob \n",
    "    face_detect.setInput(blob) #set input data for uncompression \n",
    "    detections = face_detect.forward() # preprocessing training data into the correct format\n",
    "    for i in range(0, detections.shape[2]): #loop through the detections \n",
    "        confidence = detections[0, 0, i, 2] #assign the confidence of the detection  \n",
    "        if confidence > 0.5: #if confidence is greater than the minimum confidence \n",
    "            box = detections[0, 0, i, 3:7] * np.array([w, h, w, h]) #create the box \n",
    "            (startX, startY, endX, endY) = box.astype(\"int\") #convert box to integer datatype \n",
    "            (startX, startY) = (max(0, startX), max(0, startY)) #ensure starting point fits within the frame dimension\n",
    "            (endX, endY) = (min(w - 1, endX), min(h - 1, endY)) #ensure ending point fits within the frame dimension\n",
    "            face = frame[startY:endY, startX:endX] #extract face area of interest\n",
    "            face = cv2.cvtColor(face, cv2.COLOR_BGR2RGB) #convert to RGB Channel\n",
    "            face = cv2.resize(face, (224, 224)) # resize image\n",
    "            face = img_to_array(face) #convert image to array\n",
    "            face = preprocess_input(face) # preprocess the array \n",
    "            faces.append(face) #push the numpy array into the array\n",
    "            locations.append((startX, startY, endX, endY)) #push the current location into array \n",
    "    if len(faces) > 0: # if at least 1 face is detected\n",
    "        faces = np.array(faces, dtype=\"float32\") #convert array to float \n",
    "        preds = mask_detect.predict(faces, batch_size=32) # peform predictions \n",
    "    return (locations, preds) #return X and Y coordinates and prediction if a person is wearing a nasj"
   ]
  },
  {
   "cell_type": "markdown",
   "id": "6b05c016",
   "metadata": {},
   "source": [
    "# Declare SQL Variables"
   ]
  },
  {
   "cell_type": "code",
   "execution_count": 3,
   "id": "53dd5869",
   "metadata": {},
   "outputs": [],
   "source": [
    "mydb = mysql.connector.connect( #declare mySQL connections \n",
    "  host=\"localhost\", #declare hostname\n",
    "  user=\"root\", #declare username\n",
    "  password=\"123456\", #declare password\n",
    "  database=\"projects\" #declare project name \n",
    ")\n",
    "mycursor = mydb.cursor() #set sql cursor\n",
    "mycursor.execute(\"SELECT * from ml order by Time_Stamp desc limit 1\") #execute query\n",
    "myresult = mycursor.fetchall() #fetch data "
   ]
  },
  {
   "cell_type": "markdown",
   "id": "0150228f",
   "metadata": {},
   "source": [
    "# Function to Insert Record into MySQL"
   ]
  },
  {
   "cell_type": "code",
   "execution_count": 4,
   "id": "5bdaa105",
   "metadata": {},
   "outputs": [],
   "source": [
    "def update_status(status): #function to update sql\n",
    "    sql = \"INSERT INTO ml (Time_Stamp, Village_1,Village_2,Village_3) VALUES (%s, %s,%s, %s)\" #sql query\n",
    "    val = (datetime.datetime.now(), status,\"0\",\"0\") #values to be inserted \n",
    "    mycursor.execute(sql, val) #execute code\n",
    "    mydb.commit() #commit changes \n",
    "    print(mycursor.rowcount, \"record inserted.\") #print update"
   ]
  },
  {
   "cell_type": "markdown",
   "id": "a6ed199c",
   "metadata": {},
   "source": [
    "# Declare Path for Face Detector"
   ]
  },
  {
   "cell_type": "code",
   "execution_count": 5,
   "id": "28fba34d",
   "metadata": {},
   "outputs": [],
   "source": [
    "face = r\"face_detector\\deploy.prototxt\" # get model \n",
    "weights = r\"face_detector\\res10_300x300_ssd_iter_140000.caffemodel\" # get model weight\n",
    "face_detect = cv2.dnn.readNet(face, weights)"
   ]
  },
  {
   "cell_type": "markdown",
   "id": "9fada865",
   "metadata": {},
   "source": [
    "# Declare Path to Load Mask Model"
   ]
  },
  {
   "cell_type": "code",
   "execution_count": 6,
   "id": "94833699",
   "metadata": {
    "scrolled": true
   },
   "outputs": [],
   "source": [
    "mask_detect = load_model(\"mask_detector.model\") #load mask model"
   ]
  },
  {
   "cell_type": "markdown",
   "id": "d89bad2e",
   "metadata": {},
   "source": [
    "# Launch the Camera Feed"
   ]
  },
  {
   "cell_type": "code",
   "execution_count": 7,
   "id": "55105f43",
   "metadata": {},
   "outputs": [
    {
     "name": "stdout",
     "output_type": "stream",
     "text": [
      "1 record inserted.\n",
      "1 record inserted.\n",
      "1 record inserted.\n",
      "1 record inserted.\n"
     ]
    }
   ],
   "source": [
    "vs = VideoStream(src=0).start() #start the laptop webcam\n",
    "while True:\n",
    "    frame = vs.read() # read frame from webcam\n",
    "    frame = imutils.resize(frame, width=400) # declare size of dialog frame\n",
    "    (locations, preds) = detect_and_predict_mask(frame, face_detect, mask_detect) #push the current frame into the predictive model\n",
    "    for (box, pred) in zip(locations, preds): #loop through the frame\n",
    "        (startX, startY, endX, endY) = box # draw a rectangle \n",
    "        (mask, withoutMask) = pred # declare possibilities of prediction \n",
    "        if mask > withoutMask: # if the possibility of mask is higher\n",
    "            label = \"Mask\" # assign mask as the label \n",
    "            color = (0, 255, 0) # color the box green\n",
    "        else: # if the possibility of without mask is higher \n",
    "            label = \"No Mask\" # assign no mask as the label\n",
    "            color = (0, 0, 255) #color the box red\n",
    "        label = \"{}: {:.2f}%\".format(label, max(mask, withoutMask) * 100) # display the accuracy of the prediction \n",
    "        cv2.putText(frame, label, (startX, startY - 10), #declaring the area of the text\n",
    "            cv2.FONT_HERSHEY_SIMPLEX, 0.45, color, 2) #declaring font of the text\n",
    "        cv2.rectangle(frame, (startX, startY), (endX, endY), color, 2) #draw a rectangle in the frame \n",
    "    cv2.imshow(\"Frame\", frame) #show the frame\n",
    "    key = cv2.waitKey(1) & 0xFF #display the window for a time or until a key is pressed\n",
    "    try:\n",
    "        if int(myresult[0][1]) != int(np.argmax(preds)): #if the current values is different from the sql data\n",
    "            update_status (int(np.argmax(preds))) #update the data \n",
    "            mycursor = mydb.cursor() #declare cursor\n",
    "            mycursor.execute(\"SELECT * from ml order by Time_Stamp desc limit 1\") #query the latest record \n",
    "            myresult = mycursor.fetchall() #fetch data\n",
    "    except ValueError:\n",
    "        pass\n",
    "    if key == ord(\"q\"): #if q is selected\n",
    "        break #break the while loop\n",
    "cv2.destroyAllWindows() #close the window\n",
    "vs.stop() #stop cv2"
   ]
  },
  {
   "cell_type": "code",
   "execution_count": null,
   "id": "2aa00d6d",
   "metadata": {},
   "outputs": [],
   "source": []
  }
 ],
 "metadata": {
  "kernelspec": {
   "display_name": "Python 3 (ipykernel)",
   "language": "python",
   "name": "python3"
  },
  "language_info": {
   "codemirror_mode": {
    "name": "ipython",
    "version": 3
   },
   "file_extension": ".py",
   "mimetype": "text/x-python",
   "name": "python",
   "nbconvert_exporter": "python",
   "pygments_lexer": "ipython3",
   "version": "3.9.7"
  },
  "toc": {
   "base_numbering": 1,
   "nav_menu": {},
   "number_sections": true,
   "sideBar": true,
   "skip_h1_title": false,
   "title_cell": "Table of Contents",
   "title_sidebar": "Contents",
   "toc_cell": false,
   "toc_position": {},
   "toc_section_display": true,
   "toc_window_display": false
  },
  "varInspector": {
   "cols": {
    "lenName": 16,
    "lenType": 16,
    "lenVar": 40
   },
   "kernels_config": {
    "python": {
     "delete_cmd_postfix": "",
     "delete_cmd_prefix": "del ",
     "library": "var_list.py",
     "varRefreshCmd": "print(var_dic_list())"
    },
    "r": {
     "delete_cmd_postfix": ") ",
     "delete_cmd_prefix": "rm(",
     "library": "var_list.r",
     "varRefreshCmd": "cat(var_dic_list()) "
    }
   },
   "types_to_exclude": [
    "module",
    "function",
    "builtin_function_or_method",
    "instance",
    "_Feature"
   ],
   "window_display": false
  }
 },
 "nbformat": 4,
 "nbformat_minor": 5
}
