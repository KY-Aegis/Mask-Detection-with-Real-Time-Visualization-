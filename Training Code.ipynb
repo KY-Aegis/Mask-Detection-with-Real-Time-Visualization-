{
 "cells": [
  {
   "cell_type": "markdown",
   "id": "36585cf8",
   "metadata": {},
   "source": [
    "# Import Libraries"
   ]
  },
  {
   "cell_type": "code",
   "execution_count": 1,
   "id": "c9cbb76d",
   "metadata": {},
   "outputs": [
    {
     "name": "stderr",
     "output_type": "stream",
     "text": [
      "<frozen importlib._bootstrap>:228: RuntimeWarning: scipy._lib.messagestream.MessageStream size changed, may indicate binary incompatibility. Expected 56 from C header, got 64 from PyObject\n"
     ]
    }
   ],
   "source": [
    "from tensorflow.keras.preprocessing.image import ImageDataGenerator\n",
    "from tensorflow.keras.applications import MobileNetV2\n",
    "from tensorflow.keras.layers import AveragePooling2D\n",
    "from tensorflow.keras.layers import Dropout\n",
    "from tensorflow.keras.layers import Flatten\n",
    "from tensorflow.keras.layers import Dense\n",
    "from tensorflow.keras.layers import Input\n",
    "from tensorflow.keras.models import Model\n",
    "from tensorflow.keras.optimizers import Adam\n",
    "from tensorflow.keras.applications.mobilenet_v2 import preprocess_input\n",
    "from tensorflow.keras.preprocessing.image import img_to_array\n",
    "from tensorflow.keras.preprocessing.image import load_img\n",
    "from tensorflow.keras.utils import to_categorical\n",
    "from sklearn.preprocessing import LabelBinarizer\n",
    "from sklearn.model_selection import train_test_split\n",
    "from sklearn.metrics import classification_report\n",
    "from imutils import paths\n",
    "import matplotlib.pyplot as plt\n",
    "from sklearn import metrics\n",
    "import numpy as np\n",
    "import os\n",
    "import seaborn as sns\n",
    "from sklearn.metrics import confusion_matrix\n",
    "from sklearn.metrics import plot_confusion_matrix"
   ]
  },
  {
   "cell_type": "markdown",
   "id": "f54c3a0f",
   "metadata": {},
   "source": [
    "# Set Data Directory"
   ]
  },
  {
   "cell_type": "code",
   "execution_count": 2,
   "id": "68a88125",
   "metadata": {},
   "outputs": [],
   "source": [
    "folder_path = r\"C:\\Users\\Khee Yaw\\OneDrive - Universiti Teknologi PETRONAS\\Desktop\\ML Project\\dataset\" #directory for image dataset\n",
    "categories = [\"mask\",\"no_mask\"] # name of folder for each categories"
   ]
  },
  {
   "cell_type": "markdown",
   "id": "ed70c19f",
   "metadata": {},
   "source": [
    "# Assign Images to Array"
   ]
  },
  {
   "cell_type": "markdown",
   "id": "27f43553",
   "metadata": {},
   "source": [
    "## Declare Array to Store Image Data"
   ]
  },
  {
   "cell_type": "code",
   "execution_count": 3,
   "id": "c46016ac",
   "metadata": {},
   "outputs": [],
   "source": [
    "data = [] # array to store image data\n",
    "labels = [] # array to store image labels as in mask or no mask"
   ]
  },
  {
   "cell_type": "markdown",
   "id": "99b9fc42",
   "metadata": {},
   "source": [
    "## Loop to Transform Append Image Data into Array"
   ]
  },
  {
   "cell_type": "code",
   "execution_count": 4,
   "id": "0433155e",
   "metadata": {},
   "outputs": [],
   "source": [
    "for sub_folders in categories: #loop through each foler\n",
    "    file_location = os.path.join(folder_path, sub_folders) #set path as mask or no_mask according to the value of i\n",
    "    for image_names in os.listdir(file_location): # loop thorough all the images in each file location\n",
    "        img_path = os.path.join (file_location, image_names)#extract the image according to name in the folder \n",
    "        image = load_img(img_path, target_size = (224,224)) #resize the image\n",
    "        image = img_to_array (image) #convert image to array\n",
    "        image = preprocess_input (image) #convert image array to adequaten data type \n",
    "        data.append (image) #push the image array into the data array\n",
    "        labels.append (sub_folders) # push the labels name into the labels array"
   ]
  },
  {
   "cell_type": "markdown",
   "id": "77272615",
   "metadata": {},
   "source": [
    "## Preprocess Each Array into Numpy Arrays"
   ]
  },
  {
   "cell_type": "code",
   "execution_count": 5,
   "id": "d5fde0d1",
   "metadata": {},
   "outputs": [],
   "source": [
    "labels = LabelBinarizer().fit_transform(labels) # convert categorical data to numpy array\n",
    "labels = to_categorical(labels)  # convert to numpy array to binary class matrix\n",
    "data = np.array(data, dtype=\"float32\") # convert to numpy array\n",
    "labels = np.array(labels) # convert to numpy array"
   ]
  },
  {
   "cell_type": "markdown",
   "id": "55dc3df4",
   "metadata": {},
   "source": [
    "# Split Training and Testing Data "
   ]
  },
  {
   "cell_type": "code",
   "execution_count": 6,
   "id": "33aef186",
   "metadata": {
    "scrolled": true
   },
   "outputs": [],
   "source": [
    "X_train, X_test, y_train, y_test = train_test_split(data, labels,test_size=0.20, stratify=labels, random_state=42)\n",
    "# split data into training and testing dataset at a ratio of 80:20 and dividing the data into subgroups before shuffling the dataset"
   ]
  },
  {
   "cell_type": "markdown",
   "id": "cc8408ce",
   "metadata": {},
   "source": [
    "# CNN"
   ]
  },
  {
   "cell_type": "markdown",
   "id": "6ccc6eb7",
   "metadata": {},
   "source": [
    "## Distort Image Dataset"
   ]
  },
  {
   "cell_type": "code",
   "execution_count": 7,
   "id": "657c02a3",
   "metadata": {},
   "outputs": [],
   "source": [
    "augment_image = ImageDataGenerator (\n",
    "    rotation_range = 20, # rotate random image at 20 degree\n",
    "    zoom_range = 0.15, # zoom in or zoom out image from 0 to 0.15 scale\n",
    "    width_shift_range = 0.2, # horizontally shift random image\n",
    "    height_shift_range = 0.2, # vertically shift random image\n",
    "    shear_range = 0.15, # distord image along an axis\n",
    "    horizontal_flip = True, #randomly flip images upside down\n",
    "    fill_mode = \"nearest\" # replace empty area with nearest pixel value when pixel move outside the image \n",
    ")"
   ]
  },
  {
   "cell_type": "markdown",
   "id": "44824d72",
   "metadata": {},
   "source": [
    "## Declare Permutation Variables and Optimizer"
   ]
  },
  {
   "cell_type": "code",
   "execution_count": 8,
   "id": "0bb83231",
   "metadata": {},
   "outputs": [],
   "source": [
    "learn_rate = 0.0001 # assign learning rate\n",
    "epoch = 20 # run 20 passes through the training dataset\n",
    "batch_sizes = 32 # assign 32 number of sample processed before model is updated \n",
    "opt = Adam(learning_rate=learn_rate, decay=learn_rate / 20) # use Adam optimizer with a learning rate of 0.0001"
   ]
  },
  {
   "cell_type": "markdown",
   "id": "84875825",
   "metadata": {},
   "source": [
    "## Prepare MobileNetV2 Model"
   ]
  },
  {
   "cell_type": "markdown",
   "id": "f59d1041",
   "metadata": {},
   "source": [
    "### Declare Input "
   ]
  },
  {
   "cell_type": "code",
   "execution_count": 9,
   "id": "fdb26615",
   "metadata": {
    "scrolled": false
   },
   "outputs": [
    {
     "name": "stdout",
     "output_type": "stream",
     "text": [
      "WARNING:tensorflow:`input_shape` is undefined or non-square, or `rows` is not in [96, 128, 160, 192, 224]. Weights for input shape (224, 224) will be loaded as the default.\n"
     ]
    }
   ],
   "source": [
    "image_size = (224, 224, 3) # declare size of image\n",
    "input_model = MobileNetV2(weights=\"imagenet\", include_top=False,input_tensor=Input(shape=image_size)) # construct the model"
   ]
  },
  {
   "cell_type": "markdown",
   "id": "65abe0d7",
   "metadata": {},
   "source": [
    "### Declare Output"
   ]
  },
  {
   "cell_type": "code",
   "execution_count": 10,
   "id": "db55db47",
   "metadata": {},
   "outputs": [],
   "source": [
    "output_model = input_model.output # duplicate the output of model\n",
    "output_model = AveragePooling2D(pool_size=(7, 7))(output_model) # calculate average for each patch of feature map\n",
    "output_model = Flatten(name=\"flatten\")(output_model) # convert into single dimension \n",
    "output_model = Dense(128, activation=\"relu\")(output_model) # use relu activation function\n",
    "output_model = Dropout(0.5)(output_model) # randomly set input unit to 0.5\n",
    "output_model = Dense(2, activation=\"softmax\")(output_model) # use softmax activation function"
   ]
  },
  {
   "cell_type": "markdown",
   "id": "5aab2d26",
   "metadata": {},
   "source": [
    "### Compile Model"
   ]
  },
  {
   "cell_type": "code",
   "execution_count": 11,
   "id": "b763f3c9",
   "metadata": {},
   "outputs": [],
   "source": [
    "input_model.trainable = False # freeze the convolutional layers to use the base model as a feature extractor\n",
    "model = Model(inputs=input_model.input, outputs=output_model) # place feature class on top of input_model\n",
    "model.compile(loss=\"binary_crossentropy\", optimizer=opt,metrics=[\"accuracy\"]) # compile the model using the declared variables"
   ]
  },
  {
   "cell_type": "markdown",
   "id": "a485fd8e",
   "metadata": {},
   "source": [
    "## Train the Model"
   ]
  },
  {
   "cell_type": "code",
   "execution_count": 12,
   "id": "a674ad61",
   "metadata": {},
   "outputs": [
    {
     "name": "stdout",
     "output_type": "stream",
     "text": [
      "Epoch 1/20\n",
      "33/33 [==============================] - 27s 787ms/step - loss: 0.5636 - accuracy: 0.7488 - val_loss: 0.2641 - val_accuracy: 0.9813\n",
      "Epoch 2/20\n",
      "33/33 [==============================] - 24s 731ms/step - loss: 0.2423 - accuracy: 0.9596 - val_loss: 0.1296 - val_accuracy: 0.9925\n",
      "Epoch 3/20\n",
      "33/33 [==============================] - 23s 706ms/step - loss: 0.1449 - accuracy: 0.9740 - val_loss: 0.0810 - val_accuracy: 0.9925\n",
      "Epoch 4/20\n",
      "33/33 [==============================] - 23s 707ms/step - loss: 0.1040 - accuracy: 0.9846 - val_loss: 0.0567 - val_accuracy: 0.9925\n",
      "Epoch 5/20\n",
      "33/33 [==============================] - 23s 705ms/step - loss: 0.0814 - accuracy: 0.9885 - val_loss: 0.0442 - val_accuracy: 0.9888\n",
      "Epoch 6/20\n",
      "33/33 [==============================] - 23s 705ms/step - loss: 0.0615 - accuracy: 0.9875 - val_loss: 0.0349 - val_accuracy: 0.9963\n",
      "Epoch 7/20\n",
      "33/33 [==============================] - 23s 704ms/step - loss: 0.0480 - accuracy: 0.9942 - val_loss: 0.0293 - val_accuracy: 0.9963\n",
      "Epoch 8/20\n",
      "33/33 [==============================] - 23s 705ms/step - loss: 0.0449 - accuracy: 0.9913 - val_loss: 0.0263 - val_accuracy: 0.9925\n",
      "Epoch 9/20\n",
      "33/33 [==============================] - 24s 715ms/step - loss: 0.0394 - accuracy: 0.9924 - val_loss: 0.0219 - val_accuracy: 0.9963\n",
      "Epoch 10/20\n",
      "33/33 [==============================] - 23s 708ms/step - loss: 0.0346 - accuracy: 0.9933 - val_loss: 0.0192 - val_accuracy: 0.9963\n",
      "Epoch 11/20\n",
      "33/33 [==============================] - 23s 707ms/step - loss: 0.0315 - accuracy: 0.9942 - val_loss: 0.0172 - val_accuracy: 1.0000\n",
      "Epoch 12/20\n",
      "33/33 [==============================] - 24s 731ms/step - loss: 0.0270 - accuracy: 0.9962 - val_loss: 0.0155 - val_accuracy: 1.0000\n",
      "Epoch 13/20\n",
      "33/33 [==============================] - 26s 785ms/step - loss: 0.0267 - accuracy: 0.9933 - val_loss: 0.0144 - val_accuracy: 1.0000\n",
      "Epoch 14/20\n",
      "33/33 [==============================] - 24s 722ms/step - loss: 0.0282 - accuracy: 0.9933 - val_loss: 0.0136 - val_accuracy: 1.0000\n",
      "Epoch 15/20\n",
      "33/33 [==============================] - 25s 748ms/step - loss: 0.0238 - accuracy: 0.9942 - val_loss: 0.0129 - val_accuracy: 1.0000\n",
      "Epoch 16/20\n",
      "33/33 [==============================] - 27s 811ms/step - loss: 0.0213 - accuracy: 0.9933 - val_loss: 0.0120 - val_accuracy: 1.0000\n",
      "Epoch 17/20\n",
      "33/33 [==============================] - 25s 772ms/step - loss: 0.0218 - accuracy: 0.9952 - val_loss: 0.0111 - val_accuracy: 1.0000\n",
      "Epoch 18/20\n",
      "33/33 [==============================] - 25s 748ms/step - loss: 0.0194 - accuracy: 0.9942 - val_loss: 0.0105 - val_accuracy: 1.0000\n",
      "Epoch 19/20\n",
      "33/33 [==============================] - 24s 730ms/step - loss: 0.0243 - accuracy: 0.9952 - val_loss: 0.0097 - val_accuracy: 1.0000\n",
      "Epoch 20/20\n",
      "33/33 [==============================] - 23s 704ms/step - loss: 0.0172 - accuracy: 0.9952 - val_loss: 0.0094 - val_accuracy: 1.0000\n"
     ]
    }
   ],
   "source": [
    "cnn_model = model.fit(\n",
    "    augment_image.flow(X_train, y_train), # fit in distorted data into the model\n",
    "    steps_per_epoch=len(X_train) // batch_sizes, #divide training dataset based on batch size\n",
    "    validation_data=(X_test, y_test), #divide validation dataset based on batch size\n",
    "    validation_steps=len(X_test) // batch_sizes,#divide validation dataset based on batch size \n",
    "    epochs=epoch) #declare number of epochs"
   ]
  },
  {
   "cell_type": "markdown",
   "id": "a6069f01",
   "metadata": {},
   "source": [
    "# Evaluate the Model"
   ]
  },
  {
   "cell_type": "markdown",
   "id": "f08fda48",
   "metadata": {},
   "source": [
    "## Validation and Loss"
   ]
  },
  {
   "cell_type": "code",
   "execution_count": 13,
   "id": "26d2f52a",
   "metadata": {},
   "outputs": [
    {
     "data": {
      "image/png": "[encoded data removed]",
      "text/plain": [
       "<Figure size 576x576 with 2 Axes>"
      ]
     },
     "metadata": {
      "needs_background": "light"
     },
     "output_type": "display_data"
    }
   ],
   "source": [
    "acc = cnn_model.history['accuracy'] # assign accuracy to variable \n",
    "val_acc = cnn_model.history['val_accuracy'] # assign validation accuracy to variable \n",
    "loss = cnn_model.history['loss'] # assign training loss to variable \n",
    "val_loss = cnn_model.history['val_loss'] # assign validation loss to variable \n",
    "epochs_range = range(epoch) #set epoch range\n",
    "plt.figure(figsize=(8, 8)) # set chart size\n",
    "plt.subplot(1, 2, 1) # declare subplot\n",
    "plt.plot(epochs_range, acc, label='Training Accuracy') # plot training accuracy\n",
    "plt.plot(epochs_range, val_acc, label='Validation Accuracy') # plot validation accuracy\n",
    "plt.legend(loc='lower right') #place legend on bottom right corner\n",
    "plt.title('Training and Validation Accuracy') # name the first chart\n",
    "plt.subplot(1, 2, 2) # create a subplot\n",
    "plt.plot(epochs_range, loss, label='Training Loss' )# plot training loss\n",
    "plt.plot(epochs_range, val_loss, label='Validation Loss') # plot validation loss\n",
    "plt.legend(loc='upper right') #place legend on top right corner\n",
    "plt.title('Training and Validation Loss') # name the first chart\n",
    "plt.show() #show the charts"
   ]
  },
  {
   "cell_type": "code",
   "execution_count": 14,
   "id": "caebf9eb",
   "metadata": {},
   "outputs": [],
   "source": [
    "rounded_predictions = np.argmax(model.predict(X_test), axis=1) # round off prediction values\n",
    "rounded_labels = np.argmax(y_test, axis=1) # round off test dataset values "
   ]
  },
  {
   "cell_type": "code",
   "execution_count": 15,
   "id": "e49fffca",
   "metadata": {},
   "outputs": [],
   "source": [
    "cm = confusion_matrix(rounded_labels, rounded_predictions)"
   ]
  },
  {
   "cell_type": "markdown",
   "id": "e5733175",
   "metadata": {},
   "source": [
    "## Confusion Matrix"
   ]
  },
  {
   "cell_type": "code",
   "execution_count": 16,
   "id": "9bfb5055",
   "metadata": {},
   "outputs": [
    {
     "data": {
      "image/png": "[encoded data removed]",
      "text/plain": [
       "<Figure size 432x288 with 2 Axes>"
      ]
     },
     "metadata": {
      "needs_background": "light"
     },
     "output_type": "display_data"
    }
   ],
   "source": [
    "ax = sns.heatmap(cm, annot=True, cmap='Blues',fmt='g') # setup chart\n",
    "ax.set_title('Confusion Matrix'); # set chart title\n",
    "ax.set_xlabel('\\nPredicted Values') #set x axis labels \n",
    "ax.set_ylabel('Actual Values '); #set y axis labels\n",
    "ax.xaxis.set_ticklabels(['Mask','No Mask']) #set labels \n",
    "ax.yaxis.set_ticklabels(['Mask','No Mask']) #set labels \n",
    "plt.show() #display the chart"
   ]
  },
  {
   "cell_type": "markdown",
   "id": "fab31a89",
   "metadata": {},
   "source": [
    "# Export Model"
   ]
  },
  {
   "cell_type": "code",
   "execution_count": 17,
   "id": "497abd7a",
   "metadata": {},
   "outputs": [],
   "source": [
    "model.save(\"mask_detector.model\", save_format=\"h5\") #save model in h5 format"
   ]
  }
 ],
 "metadata": {
  "kernelspec": {
   "display_name": "Python 3 (ipykernel)",
   "language": "python",
   "name": "python3"
  },
  "language_info": {
   "codemirror_mode": {
    "name": "ipython",
    "version": 3
   },
   "file_extension": ".py",
   "mimetype": "text/x-python",
   "name": "python",
   "nbconvert_exporter": "python",
   "pygments_lexer": "ipython3",
   "version": "3.9.7"
  },
  "toc": {
   "base_numbering": 1,
   "nav_menu": {},
   "number_sections": true,
   "sideBar": true,
   "skip_h1_title": false,
   "title_cell": "Table of Contents",
   "title_sidebar": "Contents",
   "toc_cell": false,
   "toc_position": {},
   "toc_section_display": true,
   "toc_window_display": false
  },
  "varInspector": {
   "cols": {
    "lenName": 16,
    "lenType": 16,
    "lenVar": 40
   },
   "kernels_config": {
    "python": {
     "delete_cmd_postfix": "",
     "delete_cmd_prefix": "del ",
     "library": "var_list.py",
     "varRefreshCmd": "print(var_dic_list())"
    },
    "r": {
     "delete_cmd_postfix": ") ",
     "delete_cmd_prefix": "rm(",
     "library": "var_list.r",
     "varRefreshCmd": "cat(var_dic_list()) "
    }
   },
   "types_to_exclude": [
    "module",
    "function",
    "builtin_function_or_method",
    "instance",
    "_Feature"
   ],
   "window_display": false
  }
 },
 "nbformat": 4,
 "nbformat_minor": 5
}
